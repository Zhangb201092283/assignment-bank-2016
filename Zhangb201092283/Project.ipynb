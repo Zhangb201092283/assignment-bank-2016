{
 "cells": [
  {
   "cell_type": "code",
   "execution_count": 1,
   "metadata": {
    "collapsed": true
   },
   "outputs": [],
   "source": [
    "import numpy\n",
    "import sympy\n",
    "from matplotlib import pyplot\n",
    "%matplotlib inline\n",
    "from matplotlib import rcParams\n",
    "rcParams['font.family'] = 'serif'\n",
    "rcParams['font.size'] = 16"
   ]
  },
  {
   "cell_type": "code",
   "execution_count": 56,
   "metadata": {
    "collapsed": false
   },
   "outputs": [
    {
     "name": "stdout",
     "output_type": "stream",
     "text": [
      "50\n"
     ]
    }
   ],
   "source": [
    "Vm1 = 80 #constants\n",
    "Vm2 = 136\n",
    "L = 11\n",
    "rhom = 250\n",
    "nx = 51\n",
    "dx = L/(nx-1)\n",
    "dt = 0.001\n",
    "T = 3.0\n",
    "nt = int(T/60/dt)\n",
    "x = numpy.linspace(0,L,nx)\n",
    "\n",
    "rho = numpy.ones(nx) #arrays\n",
    "rhon = numpy.ones(nx)\n",
    "rho = numpy.ones(nx)*20\n",
    "rho[10:20] = 50\n",
    "\n",
    "print(nt)"
   ]
  },
  {
   "cell_type": "code",
   "execution_count": 57,
   "metadata": {
    "collapsed": true
   },
   "outputs": [],
   "source": [
    "for n in range(1, nt):  \n",
    "    rhon = rho.copy() \n",
    "    rho[1:] = rhon[1:]-Vm*dt/dx*(rhon[1:]-rhon[0:-1])+Vm/rhom*dt/dx*(rhon[1:]**2-rhon[0:-1]**2)\n",
    "    rho[0] = 20"
   ]
  },
  {
   "cell_type": "code",
   "execution_count": 58,
   "metadata": {
    "collapsed": false
   },
   "outputs": [],
   "source": [
    "def Vminandavg(rhon, Vm, rhom):\n",
    "    V = numpy.ones(nx)\n",
    "    V = Vm*(1-rho/rhom)\n",
    "    print(\"Avg V is\",numpy.average(V)/3.6,\"m/s\")\n",
    "    n = numpy.min(V)/3.6\n",
    "    print(\"Min V is\",n,\"m/s\")"
   ]
  },
  {
   "cell_type": "code",
   "execution_count": 24,
   "metadata": {
    "collapsed": false
   },
   "outputs": [
    {
     "name": "stdout",
     "output_type": "stream",
     "text": [
      "Avg V is 20.6361655773 m/s\n",
      "Min V is 17.7777777778 m/s\n"
     ]
    }
   ],
   "source": [
    "Vminandavg(rhon, Vm1, rhom)"
   ]
  },
  {
   "cell_type": "code",
   "execution_count": 27,
   "metadata": {
    "collapsed": false
   },
   "outputs": [
    {
     "name": "stdout",
     "output_type": "stream",
     "text": [
      "Avg V is 20.6361659024 m/s\n",
      "Min V is 18.163766147 m/s\n"
     ]
    }
   ],
   "source": [
    "Vminandavg(rhon, Vm1, rhom)"
   ]
  },
  {
   "cell_type": "code",
   "execution_count": 30,
   "metadata": {
    "collapsed": false
   },
   "outputs": [
    {
     "name": "stdout",
     "output_type": "stream",
     "text": [
      "Avg V is 20.7303256984 m/s\n",
      "Min V is 18.7766516147 m/s\n"
     ]
    }
   ],
   "source": [
    "Vminandavg(rhon, Vm1, rhom)"
   ]
  },
  {
   "cell_type": "code",
   "execution_count": 32,
   "metadata": {
    "collapsed": false
   },
   "outputs": [
    {
     "name": "stdout",
     "output_type": "stream",
     "text": [
      "Avg V is 33.8666666667 m/s\n",
      "Min V is 30.2222222222 m/s\n"
     ]
    }
   ],
   "source": [
    "Vminandavg(rhon, Vm2, rhom)"
   ]
  },
  {
   "cell_type": "code",
   "execution_count": 60,
   "metadata": {
    "collapsed": false
   },
   "outputs": [
    {
     "name": "stdout",
     "output_type": "stream",
     "text": [
      "Avg V is 33.8666667139 m/s\n",
      "Min V is 30.6820137293 m/s\n",
      "50 [ 20.          20.          20.          20.          20.          20.          20.\n",
      "  20.          20.          20.          20.00000066  20.00001512\n",
      "  20.0001722   20.00129076  20.00717207  20.03154717  20.1145637\n",
      "  20.3535679   20.94604883  22.22157816  24.5985979   28.37004731\n",
      "  33.3291947   38.58359842  42.97727891  45.79195913  46.95726209\n",
      "  46.75738306  45.53355007  43.57587335  41.12075189  38.36794482\n",
      "  35.49110654  32.64175131  29.94964796  27.52072175  25.43282749\n",
      "  23.73058791  22.42182859  21.47869924  20.84531008  20.45076547\n",
      "  20.22360097  20.10297213  20.04396187  20.0173812   20.00635805\n",
      "  20.00214976  20.00067112  20.00019319  20.0000512 ]\n"
     ]
    }
   ],
   "source": [
    "Vminandavg(rhon, Vm2, rhom)\n",
    "print(nt,rho)"
   ]
  },
  {
   "cell_type": "code",
   "execution_count": null,
   "metadata": {
    "collapsed": true
   },
   "outputs": [],
   "source": []
  }
 ],
 "metadata": {
  "anaconda-cloud": {},
  "kernelspec": {
   "display_name": "Python [Root]",
   "language": "python",
   "name": "Python [Root]"
  },
  "language_info": {
   "codemirror_mode": {
    "name": "ipython",
    "version": 3
   },
   "file_extension": ".py",
   "mimetype": "text/x-python",
   "name": "python",
   "nbconvert_exporter": "python",
   "pygments_lexer": "ipython3",
   "version": "3.5.2"
  }
 },
 "nbformat": 4,
 "nbformat_minor": 0
}
